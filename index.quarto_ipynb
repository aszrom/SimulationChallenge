{
  "cells": [
    {
      "cell_type": "markdown",
      "metadata": {},
      "source": [
        "---\n",
        "title: \"Simulation Challenge\"\n",
        "subtitle: \"Generative Models and Monte Carlo Simulation\"\n",
        "format:\n",
        "  html: default\n",
        "  pdf: default\n",
        "execute:\n",
        "  echo: true\n",
        "  eval: true\n",
        "---\n",
        "\n",
        "# 🎲 Simulation Challenge - Monte Carlo Analysis\n",
        "\n",
        "## Challenge Overview\n",
        "\n",
        "**Your Mission:** Create a comprehensive Quarto document that simulates one or two investment strategies, analyzes the results, and demonstrates your ability to present counter-intuitive findings compellingly. Then render the document to HTML and deploy it via GitHub Pages from a new repository called \"simulationChallenge.\"\n",
        "\n",
        "::: {.callout-warning}\n",
        "## ⚠️ AI Partnership Required\n",
        "\n",
        "This challenge pushes boundaries intentionally. You'll tackle problems that normally require weeks of study, but with Cursor AI as your partner (and your brain keeping it honest), you can accomplish more than you thought possible.\n",
        "\n",
        "**The new reality:** The four stages of competence are Ignorance → Awareness → Learning → Mastery. AI lets us produce Mastery-level work while operating primarily in the Awareness stage. I focus on awareness training, you leverage AI for execution, and together we create outputs that used to require years of dedicated study.\n",
        ":::\n",
        "\n",
        "## The Investment Game 🎯\n",
        "\n",
        "### Original Game Strategy\n",
        "\n",
        "::: {#exm-ErgodicityEconomicsExample}\n",
        "Imagine you are offered the following game and given a $1,000 budget in a special account to play the game: I will flip a coin, and if it comes up heads, we increase your account's balance by 50%; if it comes up tails, we reduce your account's balance by 40%. We are not only doing this once, but we will do it once per year until you turn 55. When you turn 55, you will receive the balance in your account.\n",
        ":::\n",
        "\n",
        "### Generative DAG Model for the Investment Game"
      ],
      "id": "c18ac926"
    },
    {
      "cell_type": "code",
      "metadata": {},
      "source": [
        "#| echo: false\n",
        "#| include: false\n",
        "#| eval: true\n",
        "import daft\n",
        "\n",
        "# Create the DAG directly without custom class\n",
        "investmentDAG = daft.PGM(dpi=150, alternate_style=\"outer\")\n",
        "\n",
        "# Initial wealth (deterministic)\n",
        "investmentDAG.add_node(\"W0\", \"Initial Wealth\\n$W_0 = 1000$\", x=4, y=2.5, aspect=5.4, \n",
        "                      alternate=True, plot_params={'facecolor': 'aliceblue'})\n",
        "\n",
        "# Time t nodes  \n",
        "investmentDAG.add_node(\"Ct\", \"Coin Flip t\\n$C_t \\\\sim \\\\text{Bernoulli}(0.5)$\", x=0, y=1, aspect=4, scale = 1.6,\n",
        "                      plot_params={'facecolor': 'aliceblue'})\n",
        "investmentDAG.add_node(\"Wt\", \"\\nWealth t\\n$W_t = 1.5 \\\\times W_{t-1}$ if $C_t = 1$\\n$W_t = 0.6 \\\\times W_{t-1}$ if $C_t = 0$\\n\", x=4, y=1, scale = 1.6, aspect=4,\n",
        "                      alternate=True, plot_params={'facecolor': 'aliceblue'})\n",
        "\n",
        "# Add edges showing the relationships\n",
        "investmentDAG.add_edge(\"W0\", \"Wt\")\n",
        "investmentDAG.add_edge(\"Ct\", \"Wt\")\n",
        "\n",
        "# Add plate around time-dependent nodes\n",
        "investmentDAG.add_plate([-2, 0.5, 7.8, 1.0], label=\"t = 1, ..., N\", shift=-0.1)"
      ],
      "id": "64e49239",
      "execution_count": null,
      "outputs": []
    },
    {
      "cell_type": "code",
      "metadata": {},
      "source": [
        "#| label: fig-investment-dag\n",
        "#| fig-cap: Generative DAG model for the investment game showing how wealth evolves over time through coin flips\n",
        "#| echo: false\n",
        "#| eval: true\n",
        "investmentDAG.show()"
      ],
      "id": "fig-investment-dag",
      "execution_count": null,
      "outputs": []
    }
  ],
  "metadata": {
    "kernelspec": {
      "name": "python3",
      "language": "python",
      "display_name": "Python 3 (ipykernel)",
      "path": "/opt/anaconda3/share/jupyter/kernels/python3"
    }
  },
  "nbformat": 4,
  "nbformat_minor": 5
}